{
 "cells": [
  {
   "cell_type": "markdown",
   "id": "f799a899-370e-4f08-9e21-4b197aa444ad",
   "metadata": {},
   "source": [
    "# Data Science Tools and Ecosystem"
   ]
  },
  {
   "cell_type": "markdown",
   "id": "ebdfa248-b584-4282-a21c-485f1a44417f",
   "metadata": {},
   "source": [
    "In this notebook, Data Science Tools and Ecosystem are summarized."
   ]
  },
  {
   "cell_type": "markdown",
   "id": "b9390255-bea9-4d8c-9621-fa3643b65665",
   "metadata": {},
   "source": [
    "Some of the popular languages that Data Scientists use are:\n",
    "1. python\n",
    "2. r\n",
    "3. c/c++"
   ]
  },
  {
   "cell_type": "markdown",
   "id": "6b978bfc-a66a-4d48-9731-7806f5c4a8de",
   "metadata": {},
   "source": [
    "Some of the commonly used libraries used by Data Scientists include:\n",
    "1. numpy\n",
    "2. pandas\n",
    "3. matplotlib\n",
    "4. seaborn"
   ]
  },
  {
   "cell_type": "markdown",
   "id": "1cbc0137-1e51-40c8-a5c7-dc50f327ee7b",
   "metadata": {},
   "source": [
    "| Data Science Tools           |\n",
    "|------------------------------|\n",
    "| Jupyter Notebook             |\n",
    "| RStudio                      |\n",
    "| Apache Zeppelin              |\n"
   ]
  },
  {
   "cell_type": "markdown",
   "id": "90dc0619-c93c-4e04-ae5a-4185305bedfe",
   "metadata": {},
   "source": [
    "### Below are a few examples of evaluating arithmetic expressions in Python.\n"
   ]
  },
  {
   "cell_type": "code",
   "execution_count": 3,
   "id": "dc3f9558-c0a4-4ba9-b8b8-d0a03793570b",
   "metadata": {},
   "outputs": [
    {
     "data": {
      "text/plain": [
       "17"
      ]
     },
     "execution_count": 3,
     "metadata": {},
     "output_type": "execute_result"
    }
   ],
   "source": [
    "#This a simple arithmetic expression to mutiply then add integers\n",
    "(3*4)+5"
   ]
  },
  {
   "cell_type": "code",
   "execution_count": 4,
   "id": "132610c7-4117-4aa4-bdaa-d2b79053dd18",
   "metadata": {},
   "outputs": [
    {
     "name": "stdout",
     "output_type": "stream",
     "text": [
      "33.333333333333336 hours\n"
     ]
    }
   ],
   "source": [
    "#This will convert 200 minutes to hours by diving by 60\n",
    "print(200/6,\"hours\")"
   ]
  },
  {
   "cell_type": "markdown",
   "id": "e60bd04a-3a7a-43fa-8063-9f29e7ce0890",
   "metadata": {},
   "source": [
    "**Objectives:**\n",
    "\n",
    "- List popular languages for Data Science  \n",
    "- List commonly used libraries by Data Scientists  \n",
    "- Create and format markdown cells in a Jupyter notebook  \n",
    "- Demonstrate basic arithmetic operations in Python  \n",
    "- Create tables and lists using Markdown\n"
   ]
  },
  {
   "cell_type": "markdown",
   "id": "76aced56-5bc0-47b7-af23-055e97584467",
   "metadata": {},
   "source": [
    "## Author\n",
    "\n",
    "Abhishek A Nair"
   ]
  }
 ],
 "metadata": {
  "kernelspec": {
   "display_name": "Python [conda env:base] *",
   "language": "python",
   "name": "conda-base-py"
  },
  "language_info": {
   "codemirror_mode": {
    "name": "ipython",
    "version": 3
   },
   "file_extension": ".py",
   "mimetype": "text/x-python",
   "name": "python",
   "nbconvert_exporter": "python",
   "pygments_lexer": "ipython3",
   "version": "3.13.5"
  }
 },
 "nbformat": 4,
 "nbformat_minor": 5
}
